{
 "cells": [
  {
   "cell_type": "code",
   "execution_count": 21,
   "metadata": {},
   "outputs": [],
   "source": [
    "import requests\n",
    "\n",
    "website = 'http://localhost:5000'"
   ]
  },
  {
   "attachments": {},
   "cell_type": "markdown",
   "metadata": {},
   "source": [
    "# 1 Make prediction via HTTP POST API"
   ]
  },
  {
   "cell_type": "code",
   "execution_count": 22,
   "metadata": {},
   "outputs": [
    {
     "name": "stdout",
     "output_type": "stream",
     "text": [
      "{'avg_long_distance_fee_monthly': 30, 'total_refunds': 100, 'total_charges_quarter': 80, 'total_monthly_fee': 10, 'tenure_months': 6, 'num_referrals': 3, 'avg_gb_download_monthly': 50, 'has_phone_service': 1}\n",
      "<Response [200]>\n",
      "{\n",
      "  \"prediction\": 0.1492939934535706\n",
      "}\n",
      "\n"
     ]
    }
   ],
   "source": [
    "\n",
    "url = f'{website}/api/predict'\n",
    "model_inputs = {\n",
    "    \"avg_long_distance_fee_monthly\": 30,\n",
    "    \"total_refunds\": 100,\n",
    "    \"total_charges_quarter\": 80,\n",
    "    \"total_monthly_fee\": 10,\n",
    "    \"tenure_months\": 6,\n",
    "    \"num_referrals\": 3,\n",
    "    \"avg_gb_download_monthly\":50 ,\n",
    "    \"has_phone_service\":1\n",
    "    \n",
    "}\n",
    "\n",
    "print(model_inputs)\n",
    "response = requests.post(url, json = model_inputs)\n",
    "print(response)  # 200: OK/Success, 400: Bad Request, 500: Internal Server Error\n",
    "print(response.text)\n"
   ]
  }
 ],
 "metadata": {
  "kernelspec": {
   "display_name": "venv",
   "language": "python",
   "name": "python3"
  },
  "language_info": {
   "codemirror_mode": {
    "name": "ipython",
    "version": 3
   },
   "file_extension": ".py",
   "mimetype": "text/x-python",
   "name": "python",
   "nbconvert_exporter": "python",
   "pygments_lexer": "ipython3",
   "version": "3.11.5"
  },
  "orig_nbformat": 4
 },
 "nbformat": 4,
 "nbformat_minor": 2
}
